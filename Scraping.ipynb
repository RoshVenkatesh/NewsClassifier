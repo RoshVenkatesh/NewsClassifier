{
 "cells": [
  {
   "cell_type": "code",
   "execution_count": 1,
   "metadata": {
    "collapsed": true
   },
   "outputs": [],
   "source": [
    "from bs4 import BeautifulSoup #For web scraping\n",
    "import requests \n",
    "import unicodedata\n",
    "import re\n",
    "from string import punctuation\n",
    "from nltk.corpus import stopwords\n",
    "from nltk.stem import WordNetLemmatizer"
   ]
  },
  {
   "cell_type": "code",
   "execution_count": 2,
   "metadata": {
    "collapsed": true
   },
   "outputs": [],
   "source": [
    "#FIrst step is getting the data?\n",
    "#Or do you want to see what all i've done first? done first means?\n",
    "#Till now what i have done.\n",
    "#SUrE\n",
    "#I'm going to go one step ata  time"
   ]
  },
  {
   "cell_type": "code",
   "execution_count": 3,
   "metadata": {},
   "outputs": [
    {
     "name": "stderr",
     "output_type": "stream",
     "text": [
      "/usr/local/lib/python2.7/dist-packages/bs4/__init__.py:181: UserWarning: No parser was explicitly specified, so I'm using the best available HTML parser for this system (\"html5lib\"). This usually isn't a problem, but if you run this code on another system, or in a different virtual environment, it may use a different parser and behave differently.\n",
      "\n",
      "The code that caused this warning is on line 174 of the file /usr/lib/python2.7/runpy.py. To get rid of this warning, change code that looks like this:\n",
      "\n",
      " BeautifulSoup(YOUR_MARKUP})\n",
      "\n",
      "to this:\n",
      "\n",
      " BeautifulSoup(YOUR_MARKUP, \"html5lib\")\n",
      "\n",
      "  markup_type=markup_type))\n"
     ]
    }
   ],
   "source": [
    "#Times of India \n",
    "url = \"http://timesofindia.indiatimes.com/\"\n",
    "newsheadings = []\n",
    "r  = requests.get(url)\n",
    "data = r.text\n",
    "soup = BeautifulSoup(data)\n",
    "\n",
    "lists = soup.findAll('ul', attrs={'data-vr-zone': {\"top_stories\",\"latest\",\"ots\"}})\n",
    "\n",
    "for i in lists:\n",
    "    links = i.findAll('a')\n",
    "    for link in links:\n",
    "        title = link.get('title')\n",
    "        if title:\n",
    "            newsheadings.append(title.encode('ascii','ignore'))"
   ]
  },
  {
   "cell_type": "code",
   "execution_count": 4,
   "metadata": {
    "collapsed": true
   },
   "outputs": [],
   "source": [
    "#Indian Express\n",
    "url = \"http://indianexpress.com/\"\n",
    "r  = requests.get(url)\n",
    "data = r.text\n",
    "soup = BeautifulSoup(data)\n",
    "\n",
    "lists = soup.findAll('div', attrs={'class': 'top-news'})\n",
    "\n",
    "for item in lists:\n",
    "    links = item.findAll('a')\n",
    "    for data1 in links:\n",
    "        string = str(data1)\n",
    "        m = re.search('>.*<', string)\n",
    "        newsheadings.append( m.group(0)[1:-1])"
   ]
  },
  {
   "cell_type": "code",
   "execution_count": 5,
   "metadata": {
    "collapsed": true
   },
   "outputs": [],
   "source": [
    "#NDTV\n",
    "url = \"http://www.ndtv.com/\"\n",
    "r  = requests.get(url)\n",
    "data = r.text\n",
    "soup = BeautifulSoup(data)\n",
    "lists = soup.findAll('a', attrs={'class': \"item-title\"})\n",
    "for data1 in lists:\n",
    "    string = unicode(data1).encode('ascii','ignore')\n",
    "    m = re.search('>.*<', string)\n",
    "    if len(m.group(0)[1:-1].split()) > 5:\n",
    "        newsheadings.append(m.group(0)[1:-1])"
   ]
  },
  {
   "cell_type": "code",
   "execution_count": 6,
   "metadata": {
    "collapsed": true
   },
   "outputs": [],
   "source": [
    "#len(newsheadings)\n",
    "news2 = list(set(newsheadings))"
   ]
  },
  {
   "cell_type": "code",
   "execution_count": 7,
   "metadata": {},
   "outputs": [
    {
     "data": {
      "text/plain": [
       "['<strong>This Is Why You Crave Sugar Immediately After Your Meal</strong>',\n",
       " 'Kareena Had A Visitor At Work - Taimur. He Just Dropped By, You Know',\n",
       " 'Awkward. OPS, 3-Time Tamil Nadu Chief Minister, Now Deputy To EPS',\n",
       " \"Live: SC verdict on triple talaq 'historic', says PM\",\n",
       " 'What happens to us, ask recent triple talaq victims',\n",
       " \" Hey Govinda, Here's What David Dhawan Said About Working With You Again\",\n",
       " 'SC declares triple talaq unconstitutional',\n",
       " \"McDonald's Terminates Franchise Agreement For 169 Outlets In India\",\n",
       " 'Justin Trudeau Goes Desi, Wears Kurta At India Day Parade. See Pics',\n",
       " 'Triple talaq illegal now, no need for legislation: Shahnawaz\\xc2\\xa0Hussain',\n",
       " 'Dengue Claims Its First Victim In Delhi - 12-Year-Old Boy From Bihar',\n",
       " 'Pro Kabaddi 2017: After Kabaddi success, TransStadia eyes to host more sports in\\xc2\\xa0Ahmedabad',\n",
       " 'How India Celebrated Organ Donation Week',\n",
       " 'Delhi court denies bail to Kashmiri separatist leader Shabir\\xc2\\xa0Shah',\n",
       " 'Sidharth-Alia break-up is a publicity gimmick?',\n",
       " \"Opinion: What Trump's Speech On India And Pak Means For Modi Government\",\n",
       " 'Watch What Makes Virat Kohli A Lean, Mean Fighting Machine',\n",
       " \"Guwahati Aims To Tackle The City's Enormous Waste Problem Effectively\",\n",
       " 'CAB appoints Ushanath Banerjee as \\xe2\\x80\\x98Ombudsman\\xe2\\x80\\x99',\n",
       " \"Taimur Ali Khan Stole The Thunder At Soha Ali Khan's Baby Shower \",\n",
       " 'Tea Bags Or Tea Leaves? Which One Is Better For You?',\n",
       " 'Live: Dhinakaran sends 17 MLAs toPuducherry',\n",
       " 'Kimi Raikkonen Signs New Ferrari Deal For 2018',\n",
       " \"'Well-Dressed' Super Burglar Caught In Delhi. Google Search Helped Cops\",\n",
       " 'Dhoni, Harbhajan Face Flak In Controversy Surrounding Real Estate Firm',\n",
       " 'Rebel JD(U) leaders to call a national meet, stake\\xc2\\xa0claim',\n",
       " \"Kabir: Superstars don't look at BO collections\",\n",
       " \"In Dealing With China, Modi's Running Out Of Options\",\n",
       " 'Amazing Home Remedies For Quick Weight Loss',\n",
       " 'Coolpad Cool Play 6 with 6GB RAM, Dual Rear Cameras: First Impressions',\n",
       " 'Delhi: A Story Of A 25-Year-Old Who Died In A Road Accident, His Organs Saved 4 Lives',\n",
       " 'Jhajharia, Sardar to be conferred with Khel Ratna',\n",
       " 'Pic: Kareena with Babita, Karisma and her kids',\n",
       " 'Dawn-To-Dusk Bankers Strike Affects Operations In Tamil Nadu',\n",
       " '10 new features coming to Android phones',\n",
       " 'The Top 6 Simplest Ways To Burn Calories And Lose Weight',\n",
       " 'In India vs Sri Lanka ODI, Another MS Dhoni Stumping To Remember',\n",
       " 'Live: Sindhu v Kim Hyo at World Championships',\n",
       " \"Ranveer to host Baba Ramdev's reality show\",\n",
       " 'A Review Of Range Rover Velar',\n",
       " \"Infosys Shares Under Sebi's Watch After Rs 34,000 Crore Hit For Investors \",\n",
       " \"Iran Back To High Enrichment 'In 5 Days' If US Quits Nuclear Deal\",\n",
       " 'Soha Ali Khan flaunts baby bump during yoga',\n",
       " \"Opinion: BJP's Hypocrisy In Seeking Credit For Triple <i>Talaq</i> Ban\",\n",
       " 'Mouni Roy goes bold in latest photo-shoot',\n",
       " 'Battling Drought, Tamil Nadu Farmers Revive Traditional Grains',\n",
       " 'Another Stint At A Resort For Lawmakers Loyal To Sasikala. This Time 19',\n",
       " '2017 Hyundai Verna Launched In India. Price And Other Details Here',\n",
       " 'Cashless Bano India: India Among Top Nations With Potential For Digital Payments, Says Digital Evolution Index',\n",
       " \"Ahmed Patel: Sonia Gandhi's Confidant and Congress' Trouble-Shooter\",\n",
       " 'Donald Trump Briefly Stares At Sun During Solar Eclipse, Becomes A Meme',\n",
       " 'Action against rly officials can slow down traffic',\n",
       " 'Love Is In The Air: India Gets Its First LGBT Radio Show',\n",
       " \"Chinese Foreign Ministry said Pakistan had made 'great sacrifices'.\",\n",
       " 'French model trades pageant dress for burqa',\n",
       " \"Trolled For Mocking 'Dignity Of Men,' Twinkle Khanna Posts Same Pic Again\",\n",
       " '<strong>Did You Know Sambar is Not an Original South Indian Dish!</strong>',\n",
       " 'Here Is A List Of Food Items To Avoid Before Your Wedding Day',\n",
       " 'Why media got triple talaq order wrong - initially',\n",
       " 'Man shoots friend at Delhi restaurant',\n",
       " 'Jio Phone: Micromax Co-Founder on the Company Plans for 4G Feature Phones',\n",
       " 'Remains Of Sailors Found On US Warship That Had Hole Ripped Into Side',\n",
       " \"Amit Shah's Unfolded 'Mission 350' For 2019. How It Will Work\",\n",
       " 'Kapil Sibal In Court Opposed Ending Triple <i>Talaq</i>. His Reaction To The Ban',\n",
       " \"2017 Hyundai Verna Launched: Here's All You Need to Know\",\n",
       " 'HCL Infosystems Shares Soar 18%. Here Is An Apple Connection',\n",
       " 'Darjeeling protest: Ready for discussion on issue on August 29, says Mamata Banerjee',\n",
       " \"'Look Forward To Food Cooked By Mother, Joining Work': Lt Colonel Purohit\",\n",
       " \"Sushant talks about his 'nude scene' in 'Drive'\",\n",
       " 'AirAsia Offers Rs 999 Tickets In 7-Day Sale. Details Here ',\n",
       " 'Government Extends BHIM Cash Back Scheme For Merchants Till March 2018',\n",
       " 'AirAsia offers tickets starting from Rs 999',\n",
       " 'With Modi-Shah Marksmanship, Mission 350 Rests On These Factors',\n",
       " \"After Trump's Warning, China Jumps To Defense Of Pakistan\",\n",
       " 'Karnataka BJP Leaders Meet Governor Over Charges Against BS Yeddyurappa',\n",
       " 'On Drive-Through Safari, Man Rolls Down Window To Feed Bears. Then, This',\n",
       " \"Doklam standoff: China rejects Rajnath's hope for early solution, tells India to withdraw troops\",\n",
       " \"What Mohan Bhagwat's I-Day Outing In Kerala Proves\",\n",
       " 'Imran to US: Never again will we fight your wars',\n",
       " \"Delhi, Your Old Newspapers Can Feed The Poor. Here's How\",\n",
       " 'Bank FD, Savings Deposit Rates Falling. What Are Your Options?',\n",
       " 'Esha Deol to tie the knot again!',\n",
       " 'Indian Railways: 5 myths and facts',\n",
       " 'Hyundai Has Received These Many Bookings For The 2017 Verna In 18 Days',\n",
       " 'Kalyan: Lady catches eve-teaser',\n",
       " \"Is India's Skill Gap Responsible For Poor Employment Outlook?\",\n",
       " \"'Muslim women can now live with dignity'\",\n",
       " 'Triple <i>Talaq</i> Verdict Means 5 Petitioners Not Divorced Anymore: Lawyer',\n",
       " \" This Is Chunky Pandey's Daughter. Apparently 'Too Lovely' To Have His DNA\",\n",
       " 'Zayed Khan sizzles as Ranvir Raichand in the first teaser of\\xc2\\xa0Haasil',\n",
       " 'Open Defecation Free Mumbai? Not Quite. Twinkle Khanna Shows Why Building Toilets Is Not Enough',\n",
       " \"Mani Shankar Aiyar Reviews PM Modi's Aug 15 Speech\",\n",
       " 'Amit Shah Forces Shotgun Wedding For EPS, OPS',\n",
       " 'Triple <i>Talaq</i> Illegal, Says Supreme Court In Landmark Judgment: 10 Points',\n",
       " \"Nitish Kumar's Latest Move To Outwit Estranged Partner Sharad Yadav\",\n",
       " 'Adv: Why every startup should be part of this expo',\n",
       " 'Innovations: IIT Kharagpur Invents Low-Cost Smart Hygiene Monitor To Alert Authorities About Cleanups',\n",
       " 'Uber Eyes The Next Phase Of Growth With A New Campaign ',\n",
       " 'Massage Parlours Drive Demand For Thai Sex Slaves In Mumbai',\n",
       " 'Deepika and Ranveer indulge in PDA',\n",
       " \"Gautam Gambhir's Brutally Honest Take On Yuvraj Singh's India Future\",\n",
       " 'Two Held For Duping 50 People By Issuing Fake Visa',\n",
       " '<strong>13 Fool-Proof Ways to Get a Flat Tummy</strong>',\n",
       " 'Boost Your Sex Life With These Changes',\n",
       " \"SC tells Tamil Nadu govt to follow NEET after Centre says it can't get exemption\",\n",
       " '<strong>8 Ayurvedic Spices That Can Help Boost Digestion</strong>',\n",
       " 'Wasim Akram Delighted About Cricket Coming Back To Pakistan',\n",
       " 'Victoria Azarenka Withdraws From US Open Amid Custody Fight',\n",
       " 'Rajnath Singh Says China Tension To End Soon, Beijing Makes Angry Comment',\n",
       " 'Why government is so keen to permit use of loudspeakers? Bombay High\\xc2\\xa0Court',\n",
       " 'Historic triple talaq verdict: Who said what',\n",
       " 'Disha Patani redefines hotness in backless dress',\n",
       " \"Indian-Origin Boy Wins UK Show With IQ Higher Than Albert Einstein's\",\n",
       " 'PM Narendra Modi\\xe2\\x80\\x99s support for Muslim women yielded result: Meenakshi\\xc2\\xa0Lekhi',\n",
       " \"India welcomes Trump's warning to Pak on terror\",\n",
       " 'Jerry Lewis, The King Of Comedy, And The Legacy He Left Behind',\n",
       " 'Be An Organ Donor: Give Life To Patients Waiting In The Dark ',\n",
       " '5 Vibrant Products For Eclectic Home Decor In Less Than 3500',\n",
       " 'They Met At Mumbai Clinic To Change Gender. Marriage And Baby Next',\n",
       " \"Why BJP's Opposition To Article 35A Has Merit\",\n",
       " 'Add A Little Greenery To Your House With Indoor Planters, In Less Than 2100',\n",
       " 'Full text: SC verdict on triple talaq',\n",
       " 'Triple <i>Talaq</i>: 5 Judges, 5 Faiths, What They Said',\n",
       " \"Pic: Esha Gupta preps for 'Baadshaho' day\",\n",
       " 'Hyundai launches 2017 Verna: All details here',\n",
       " 'PM Modi addresses 200 young CEOs: Top quotes',\n",
       " 'Pro Kabaddi 2017: What do the players eat, how much do they sleep? Puneri Paltan players reveal it\\xc2\\xa0all',\n",
       " 'Do Your Bit Towards The Society, Sign-Up Now For Behtar India Campaign',\n",
       " \"If We Enter India, 'Chaos', Warns China, Says India's Stand Is 'Vicious'\",\n",
       " 'This Adorable Video Of Ranveer Singh And Deepika Padukone Is Breaking The Internet ',\n",
       " \"WhatsApp's New Feature Changes Everything for the Old Text Status\",\n",
       " \"Away From Home, These Migrants Call Kerala Their 'Mini Gulf' \",\n",
       " \"'Feel protected, victorious': Muslim women\",\n",
       " 'Eat According To Your Blood Group To Lose Weight And Stay Fit',\n",
       " '2017 Tata Nexon Subcompact SUV To Launch In September',\n",
       " 'Natasha joins Varun for movie outing',\n",
       " 'Micromax\\'s New Phone With Stunning 5.7\" Display Launched at Rs. 9,999: Full Specs',\n",
       " 'On Doklam, China continues with propaganda',\n",
       " 'Donald Trump Clears Way For Troop Increase In Afghanistan ',\n",
       " \"Follow NEET, Tamil Nadu Told After Centre Says It Can't Get Exemption\",\n",
       " 'Triple talaq: Muslim Board to plan future action ',\n",
       " 'INX case: Madras High Court declines relief to Karti Chidambaram, nod to move Delhi\\xc2\\xa0court',\n",
       " 'AIADMK crisis HIGHLIGHTS: Dinakaran loyalists head for hotels in Puducherry; 10 more MLAs likely to switch camps']"
      ]
     },
     "execution_count": 7,
     "metadata": {},
     "output_type": "execute_result"
    }
   ],
   "source": [
    "news2\n",
    "#This is all the news headings. Totally from all channels."
   ]
  },
  {
   "cell_type": "code",
   "execution_count": 8,
   "metadata": {},
   "outputs": [
    {
     "data": {
      "text/plain": [
       "143"
      ]
     },
     "execution_count": 8,
     "metadata": {},
     "output_type": "execute_result"
    }
   ],
   "source": [
    "len(news2)\n",
    "#Screw from here. I'll have to explain later. MAybe incollege? This is the preprocess part\n",
    "#Just look at thescraping part"
   ]
  },
  {
   "cell_type": "code",
   "execution_count": 10,
   "metadata": {},
   "outputs": [],
   "source": [
    "lower= []\n",
    "tokenised = [] \n",
    "final_preprocess = []\n",
    "stop_words = set(stopwords.words('english'))\n",
    "wordnet_lemmatizer = WordNetLemmatizer()\n",
    "\n",
    "for i in news2:\n",
    "    i_new = \"\".join(c for c in i if c not in punctuation)\n",
    "    lower.append(i_new.strip(',.').lower())\n",
    "    \n",
    "for i in lower:\n",
    "    tokenised.append(i.split())\n",
    "    \n",
    "for i in tokenised:\n",
    "    for w in i:\n",
    "        if w in stop_words:\n",
    "            i.remove(w)\n",
    "            \n",
    "for i in tokenised:\n",
    "    list1 = []\n",
    "    for w in i:\n",
    "        list1.append(str(w))#str(wordnet_lemmatizer.lemmatize(w)))\n",
    "    final_preprocess.append(' '.join(list1))\n",
    "    \n"
   ]
  },
  {
   "cell_type": "code",
   "execution_count": 11,
   "metadata": {
    "collapsed": true
   },
   "outputs": [],
   "source": [
    "from sklearn.feature_extraction.text import TfidfVectorizer\n",
    "tfidf = TfidfVectorizer()\n",
    "vectors = tfidf.fit_transform(final_preprocess)"
   ]
  },
  {
   "cell_type": "code",
   "execution_count": 12,
   "metadata": {
    "collapsed": true
   },
   "outputs": [],
   "source": [
    "from sklearn.metrics.pairwise import cosine_similarity\n",
    "mat = cosine_similarity(vectors, vectors)"
   ]
  },
  {
   "cell_type": "code",
   "execution_count": 13,
   "metadata": {
    "collapsed": true
   },
   "outputs": [],
   "source": [
    "removed = []\n",
    "buckets = []\n",
    "for i in range (0,mat.shape[0]):\n",
    "    l1 = []\n",
    "    for j in range (i,mat.shape[0]):\n",
    "        if mat[i][j] > 0.5 and j not in removed:\n",
    "            l1.append(news2[j])\n",
    "            removed.append(j)\n",
    "    buckets.append(l1)  "
   ]
  },
  {
   "cell_type": "code",
   "execution_count": 14,
   "metadata": {},
   "outputs": [
    {
     "name": "stdout",
     "output_type": "stream",
     "text": [
      "[\"Live: SC verdict on triple talaq 'historic', says PM\", 'Historic triple talaq verdict: Who said what', 'Full text: SC verdict on triple talaq']\n",
      "[\"Taimur Ali Khan Stole The Thunder At Soha Ali Khan's Baby Shower \", 'Soha Ali Khan flaunts baby bump during yoga']\n",
      "['2017 Hyundai Verna Launched In India. Price And Other Details Here', 'Hyundai launches 2017 Verna: All details here']\n",
      "['AirAsia Offers Rs 999 Tickets In 7-Day Sale. Details Here ', 'AirAsia offers tickets starting from Rs 999']\n",
      "[\"SC tells Tamil Nadu govt to follow NEET after Centre says it can't get exemption\", \"Follow NEET, Tamil Nadu Told After Centre Says It Can't Get Exemption\"]\n"
     ]
    }
   ],
   "source": [
    "for i in buckets:\n",
    "    if len(i) > 1:\n",
    "        print i"
   ]
  },
  {
   "cell_type": "code",
   "execution_count": null,
   "metadata": {
    "collapsed": true
   },
   "outputs": [],
   "source": [
    "#So basically you see the first news item? \n",
    "#That came in all 3 channels because it was important. (That list has 3 members)\n",
    "#So you can say if something comes in more than one place it is important\n",
    "#SO we are tryinng to split good news from crap news\n",
    "# Who wants to know this shit? This Is Why You Crave Sugar Immediately After Your Meal</strong>\n",
    "#KAYYYy? Yep :) "
   ]
  },
  {
   "cell_type": "code",
   "execution_count": null,
   "metadata": {
    "collapsed": true
   },
   "outputs": [],
   "source": []
  }
 ],
 "metadata": {
  "kernelspec": {
   "display_name": "Python 2",
   "language": "python",
   "name": "python2"
  },
  "language_info": {
   "codemirror_mode": {
    "name": "ipython",
    "version": 2
   },
   "file_extension": ".py",
   "mimetype": "text/x-python",
   "name": "python",
   "nbconvert_exporter": "python",
   "pygments_lexer": "ipython2",
   "version": "2.7.12+"
  }
 },
 "nbformat": 4,
 "nbformat_minor": 2
}
